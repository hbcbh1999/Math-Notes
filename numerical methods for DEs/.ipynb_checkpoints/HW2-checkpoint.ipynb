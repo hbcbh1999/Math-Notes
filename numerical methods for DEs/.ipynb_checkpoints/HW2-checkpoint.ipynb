{
 "cells": [
  {
   "cell_type": "markdown",
   "metadata": {},
   "source": [
    "#Numerical Solutions for DEs HW2\n",
    "\n",
    "YANG, Ze (5131209043)\n",
    "\n",
    "**Note to TA**: Hi, this is the senior student from Antai College who did not register for this course. I would like to do all the assignments for practice, but feel free to just skip my homework if you don't have time.\n",
    "\n",
    "Thank you again for allowing me to access the assignments and other class material! : )\n",
    "\n",
    "Ze\n",
    "\n",
    "\n",
    "\n",
    "##Problem 1.\n",
    "\n",
    "- Implement RK2\n",
    "\n",
    "\\begin{cases}\n",
    "y_{n+1}=y_n + hk_2 \\\\\n",
    "k_1 = f(t_n, y_n) \\\\\n",
    "k_2 = f(t_n + \\tfrac{1}{2}h, y_n + \\tfrac{1}{2}hk_1) \\\\\n",
    "\\end{cases}\n",
    "\n",
    "- Henn Method\n",
    "\n",
    "\\begin{cases}\n",
    "y_{n+1}= y_n + h(\\tfrac{1}{4}k_1 + \\tfrac{3}{4}k_3)\\\\\n",
    "k_1 = f(t_n, y_n) \\\\\n",
    "k_2 = f(t_n + \\tfrac{1}{3}h, y_n + \\tfrac{1}{3}hk_1) \\\\\n",
    "k_3 = f(t_n + \\tfrac{2}{3}h, y_n + \\tfrac{2}{3}hk_1) \\\\\n",
    "\\end{cases}\n",
    "\n",
    "- The Classical RK4 Method\n",
    "\n",
    "\\begin{cases}\n",
    "y_{n+1} = y_n + h(\\tfrac{1}{6}k_1 + \\tfrac{1}{3}k_2 + \\tfrac{1}{3}k_3 + \\tfrac{1}{6}k_4) \\\\\n",
    "k_1 = f(t_n, y_n) \\\\\n",
    "k_2 = f(t_n + \\tfrac{1}{2}h, y_n + \\tfrac{1}{2}hk_1) \\\\\n",
    "k_3 = f(t_n + \\tfrac{1}{2}h, y_n + \\tfrac{1}{2}hk_2) \\\\\n",
    "k_4 = f(t_n + h, y_n + hk_3) \\\\\n",
    "\\end{cases}\n",
    "\n",
    "- Choose appropriate RK method to initialize Adams-Bashforth method of order 3:\n",
    "\n",
    "$$\n",
    "y_{n+3} = y_{n+2} + h(\\tfrac{23}{12}f(t_{n+2}, y_{n+2}) - \\tfrac{4}{3}f(t_{n+1}, y_{n+1}) + \\tfrac{5}{12}f(t_n, y_n))\n",
    "$$\n",
    "\n",
    "And justify the rate of convergence."
   ]
  },
  {
   "cell_type": "code",
   "execution_count": 6,
   "metadata": {
    "collapsed": true
   },
   "outputs": [],
   "source": [
    "%matplotlib inline\n",
    "from __future__ import division\n",
    "import time\n",
    "import numpy as np\n",
    "import scipy.optimize\n",
    "import matplotlib.pyplot as plt"
   ]
  },
  {
   "cell_type": "code",
   "execution_count": 22,
   "metadata": {
    "collapsed": false
   },
   "outputs": [],
   "source": [
    "# test cases\n",
    "test_cases = {\n",
    "    1: lambda t,y: np.pi * np.cos(np.pi * t),\n",
    "    2: lambda t,y: t + y,\n",
    "    3: lambda t,y: exp(t),\n",
    "    4: lambda t,y: -20*y + 20* t + 1,\n",
    "    5: lambda t,y: (y**2) * (t - t**3),\n",
    "    6: lambda t,y: t**2 - y\n",
    "}\n",
    "\n",
    "# initial conditions\n",
    "t0, t1, y0 = 0.0, 3.0, 1.0\n",
    "\n",
    "\n",
    "# estimate error and performance\n",
    "def err_est(method, f, n_sample, t0, t1, y0):\n",
    "    \"\"\"\n",
    "    estimate the error of an numerical solution relative\n",
    "    to an exact solution, which is obtained by using a very small h.\n",
    "    \n",
    "    @param method: function, the numerical method being used.\n",
    "    @param f: a function of t and y, which is the derivative of y.\n",
    "    @param n_sample: # of different choices of h that are tested.\n",
    "    \"\"\"\n",
    "    nks, errs, t_elapsed = [], [], []\n",
    "    # calculate \"exact\" solution using a very small h\n",
    "    n_large = 2**16\n",
    "    t_ex, y_ex = method(f, n_large, t0, t1, y0)\n",
    "    \n",
    "    for k in range(n_sample):\n",
    "        n_k = 2**(k+3)\n",
    "        s_k = int(n_large/n_k)\n",
    "        start_time = time.time()\n",
    "        # do the numerical procudure with given choice of h,n\n",
    "        t_path, path = method(f, n_k, t0, t1, y0)\n",
    "        t_elapsed.append(time.time() - start_time)\n",
    "        # calc errors \n",
    "        path_matched = [y_ex[s_k*i] for i in range(len(path))] \n",
    "        err = max(np.abs(path - path_matched))\n",
    "        errs.append(err)\n",
    "        nks.append(n_k)\n",
    "    return nks, errs, t_elapsed\n",
    "\n",
    "# the benchmark, the method we implemented in last HW.\n",
    "def explicit_euler_solve(f, n, t0, t1, y0):\n",
    "    \"\"\"\n",
    "    explicit euler method, solve IVP y'(t)=f(t,y(t)), y(t0)=y0 by\n",
    "    y_{n+1} <- y_{n} + hf(t_n, y_{n}).\n",
    "    @param f: a function of t and y, which is the derivative of y.\n",
    "    @param n: the number of steps.\n",
    "    @param t0, y0: the initial value.\n",
    "    @param t1: the other end to which we generate numerical solution\n",
    "    \n",
    "    @return t: the np.array {t_k}_1^n\n",
    "    @return y: the np.array {y_k}_1^n\n",
    "    \"\"\"\n",
    "    h = (t1 - t0) / n\n",
    "    t, y = np.linspace(t0, t1, n+1), np.zeros(n+1)\n",
    "    y[0] = y0\n",
    "    for k in range(n):\n",
    "        y[k+1] = y[k] + h*f(t[k], y[k])\n",
    "    return t, y\n",
    "\n",
    "def rk2(f, n, t0, t1, y0):\n",
    "    \"\"\"\n",
    "    2-nd order RK method, solve IVP y'(t)=f(t,y(t)), y(t0)=y0 by\n",
    "    k1 <- f(t_n, y_n)\n",
    "    k2 <- f(t_n + h/2, y_n + hk_1/2)\n",
    "    y_{n+1} <- y_n + hk_2.\n",
    "    \n",
    "    @param f: a function of t and y, which is the derivative of y.\n",
    "    @param n: the number of steps.\n",
    "    @param h: the step size.\n",
    "    @param y0: the initial value.\n",
    "    \n",
    "    @return t: the np.array {t_k}_1^n\n",
    "    @return y: the np.array {y_k}_1^n\n",
    "    \"\"\"\n",
    "    h = (t1 - t0) / n\n",
    "    t, y = np.linspace(t0, t1, n+1), np.zeros(n+1)\n",
    "    y[0] = y0\n",
    "    for k in range(n):\n",
    "        k1 = f(t[k], y[k])\n",
    "        k2 = f(t[k] + h/2, y[k] + h*k1/2)\n",
    "        y[k+1] = y[k] + h*k2\n",
    "    return t, y\n",
    "\n",
    "\n",
    "def henn_rk3(f, n, t0, t1, y0):\n",
    "    \"\"\"\n",
    "    3-rd order RK method, solve IVP y'(t)=f(t,y(t)), y(t0)=y0 by\n",
    "    k1 <- f(t_n, y_n)\n",
    "    k2 <- f(t_n + h/3, y_n + hk_1/3)\n",
    "    k3 <- f(t_n + 2h/3, y_n + 2hk_2/3)\n",
    "    y_{n+1} <- y_n + h(k_1/4 + 3k_3/4).\n",
    "    \n",
    "    @param f: a function of t and y, which is the derivative of y.\n",
    "    @param n: the number of steps.\n",
    "    @param h: the step size.\n",
    "    @param y0: the initial value.\n",
    "    \n",
    "    @return t: the np.array {t_k}_1^n\n",
    "    @return y: the np.array {y_k}_1^n\n",
    "    \"\"\"\n",
    "    h = (t1 - t0) / n\n",
    "    t, y = np.linspace(t0, t1, n+1), np.zeros(n+1)\n",
    "    y[0] = y0\n",
    "    for k in range(n):\n",
    "        k1 = f(t[k], y[k])\n",
    "        k2 = f(t[k] + h/3, y[k] + h*k1/3)\n",
    "        k3 = f(t[k] + 2*h/3, y[k] + 2*h*k2/3)\n",
    "        y[k+1] = y[k] + h*(k1/4 + 3*k3/4) \n",
    "    return t, y\n",
    "\n",
    "def rk4(f, n, t0, t1, y0):\n",
    "    \"\"\"\n",
    "    the classical 4-th order RK method, solve IVP y'(t)=f(t,y(t)), y(t0)=y0 by\n",
    "    k1 <- f(t_n, y_n)\n",
    "    k2 <- f(t_n + h/2, y_n + hk_1/2)\n",
    "    k3 <- f(t_n + h/2, y_n + hk_2/2)\n",
    "    k4 <- f(t_n + h, y_n + hk_3)\n",
    "    y_{n+1} <- y_n + h(k_1/6 + k_2/3 + k_3/3 + k_4/6).\n",
    "    \n",
    "    @param f: a function of t and y, which is the derivative of y.\n",
    "    @param n: the number of steps.\n",
    "    @param h: the step size.\n",
    "    @param y0: the initial value.\n",
    "    \n",
    "    @return t: the np.array {t_k}_1^n\n",
    "    @return y: the np.array {y_k}_1^n\n",
    "    \"\"\"\n",
    "    h = (t1 - t0) / n\n",
    "    t, y = np.linspace(t0, t1, n+1), np.zeros(n+1)\n",
    "    y[0] = y0\n",
    "    for k in range(n):\n",
    "        k1 = f(t[k], y[k])\n",
    "        k2 = f(t[k] + h/2, y[k] + h*k1/2)\n",
    "        k3 = f(t[k] + h/2, y[k] + h*k2/2)\n",
    "        k4 = f(t[k] + h, y[k] + h*k3)\n",
    "        y[k+1] = y[k] + h*(k1/6 + k2/3 + k3/3 + k4/6) \n",
    "    return t, y"
   ]
  },
  {
   "cell_type": "code",
   "execution_count": 24,
   "metadata": {
    "collapsed": false
   },
   "outputs": [
    {
     "ename": "TypeError",
     "evalue": "rk4() takes no arguments (5 given)",
     "output_type": "error",
     "traceback": [
      "\u001b[0;31m---------------------------------------------------------------------------\u001b[0m",
      "\u001b[0;31mTypeError\u001b[0m                                 Traceback (most recent call last)",
      "\u001b[0;32m<ipython-input-24-3be5bc69ab2b>\u001b[0m in \u001b[0;36m<module>\u001b[0;34m()\u001b[0m\n\u001b[1;32m      2\u001b[0m \u001b[0mnks2\u001b[0m \u001b[0;34m,\u001b[0m\u001b[0merrs2\u001b[0m\u001b[0;34m,\u001b[0m \u001b[0mt_elapsed2\u001b[0m \u001b[0;34m=\u001b[0m \u001b[0merr_est\u001b[0m\u001b[0;34m(\u001b[0m\u001b[0mrk2\u001b[0m\u001b[0;34m,\u001b[0m \u001b[0mtest_cases\u001b[0m\u001b[0;34m[\u001b[0m\u001b[0;36m6\u001b[0m\u001b[0;34m]\u001b[0m\u001b[0;34m,\u001b[0m \u001b[0;36m12\u001b[0m\u001b[0;34m,\u001b[0m \u001b[0mt0\u001b[0m\u001b[0;34m,\u001b[0m \u001b[0mt1\u001b[0m\u001b[0;34m,\u001b[0m \u001b[0my0\u001b[0m\u001b[0;34m)\u001b[0m\u001b[0;34m\u001b[0m\u001b[0m\n\u001b[1;32m      3\u001b[0m \u001b[0mnks3\u001b[0m \u001b[0;34m,\u001b[0m\u001b[0merrs3\u001b[0m\u001b[0;34m,\u001b[0m \u001b[0mt_elapsed3\u001b[0m \u001b[0;34m=\u001b[0m \u001b[0merr_est\u001b[0m\u001b[0;34m(\u001b[0m\u001b[0mhenn_rk3\u001b[0m\u001b[0;34m,\u001b[0m \u001b[0mtest_cases\u001b[0m\u001b[0;34m[\u001b[0m\u001b[0;36m6\u001b[0m\u001b[0;34m]\u001b[0m\u001b[0;34m,\u001b[0m \u001b[0;36m12\u001b[0m\u001b[0;34m,\u001b[0m \u001b[0mt0\u001b[0m\u001b[0;34m,\u001b[0m \u001b[0mt1\u001b[0m\u001b[0;34m,\u001b[0m \u001b[0my0\u001b[0m\u001b[0;34m)\u001b[0m\u001b[0;34m\u001b[0m\u001b[0m\n\u001b[0;32m----> 4\u001b[0;31m \u001b[0mnks4\u001b[0m \u001b[0;34m,\u001b[0m\u001b[0merrs4\u001b[0m\u001b[0;34m,\u001b[0m \u001b[0mt_elapsed4\u001b[0m \u001b[0;34m=\u001b[0m \u001b[0merr_est\u001b[0m\u001b[0;34m(\u001b[0m\u001b[0mrk4\u001b[0m\u001b[0;34m,\u001b[0m \u001b[0mtest_cases\u001b[0m\u001b[0;34m[\u001b[0m\u001b[0;36m6\u001b[0m\u001b[0;34m]\u001b[0m\u001b[0;34m,\u001b[0m \u001b[0;36m12\u001b[0m\u001b[0;34m,\u001b[0m \u001b[0mt0\u001b[0m\u001b[0;34m,\u001b[0m \u001b[0mt1\u001b[0m\u001b[0;34m,\u001b[0m \u001b[0my0\u001b[0m\u001b[0;34m)\u001b[0m\u001b[0;34m\u001b[0m\u001b[0m\n\u001b[0m\u001b[1;32m      5\u001b[0m \u001b[0;31m#plt.plot( ,errs)\u001b[0m\u001b[0;34m\u001b[0m\u001b[0;34m\u001b[0m\u001b[0m\n\u001b[1;32m      6\u001b[0m \u001b[0;31m#plt.plot(range(10) ,-np.array(range(10)))\u001b[0m\u001b[0;34m\u001b[0m\u001b[0;34m\u001b[0m\u001b[0m\n",
      "\u001b[0;32m<ipython-input-22-131f31915734>\u001b[0m in \u001b[0;36merr_est\u001b[0;34m(method, f, n_sample, t0, t1, y0)\u001b[0m\n\u001b[1;32m     26\u001b[0m     \u001b[0;31m# calculate \"exact\" solution using a very small h\u001b[0m\u001b[0;34m\u001b[0m\u001b[0;34m\u001b[0m\u001b[0m\n\u001b[1;32m     27\u001b[0m     \u001b[0mn_large\u001b[0m \u001b[0;34m=\u001b[0m \u001b[0;36m2\u001b[0m\u001b[0;34m**\u001b[0m\u001b[0;36m16\u001b[0m\u001b[0;34m\u001b[0m\u001b[0m\n\u001b[0;32m---> 28\u001b[0;31m     \u001b[0mt_ex\u001b[0m\u001b[0;34m,\u001b[0m \u001b[0my_ex\u001b[0m \u001b[0;34m=\u001b[0m \u001b[0mmethod\u001b[0m\u001b[0;34m(\u001b[0m\u001b[0mf\u001b[0m\u001b[0;34m,\u001b[0m \u001b[0mn_large\u001b[0m\u001b[0;34m,\u001b[0m \u001b[0mt0\u001b[0m\u001b[0;34m,\u001b[0m \u001b[0mt1\u001b[0m\u001b[0;34m,\u001b[0m \u001b[0my0\u001b[0m\u001b[0;34m)\u001b[0m\u001b[0;34m\u001b[0m\u001b[0m\n\u001b[0m\u001b[1;32m     29\u001b[0m \u001b[0;34m\u001b[0m\u001b[0m\n\u001b[1;32m     30\u001b[0m     \u001b[0;32mfor\u001b[0m \u001b[0mk\u001b[0m \u001b[0;32min\u001b[0m \u001b[0mrange\u001b[0m\u001b[0;34m(\u001b[0m\u001b[0mn_sample\u001b[0m\u001b[0;34m)\u001b[0m\u001b[0;34m:\u001b[0m\u001b[0;34m\u001b[0m\u001b[0m\n",
      "\u001b[0;31mTypeError\u001b[0m: rk4() takes no arguments (5 given)"
     ]
    }
   ],
   "source": [
    "nks ,errs, t_elapsed = err_est(explicit_euler_solve, test_cases[6], 12, t0, t1, y0)\n",
    "nks2 ,errs2, t_elapsed2 = err_est(rk2, test_cases[6], 12, t0, t1, y0)\n",
    "nks3 ,errs3, t_elapsed3 = err_est(henn_rk3, test_cases[6], 12, t0, t1, y0)\n",
    "nks4 ,errs4, t_elapsed4 = err_est(rk4, test_cases[6], 12, t0, t1, y0)\n",
    "#plt.plot( ,errs)\n",
    "#plt.plot(range(10) ,-np.array(range(10)))\n",
    "plt.plot(np.log(nks) ,np.log(errs))\n",
    "plt.plot(np.log(nks2) ,np.log(errs2))\n",
    "plt.plot(np.log(nks3) ,np.log(errs3))\n",
    "plt.plot(np.log(nks4) ,np.log(errs4))"
   ]
  },
  {
   "cell_type": "code",
   "execution_count": 11,
   "metadata": {
    "collapsed": false
   },
   "outputs": [
    {
     "data": {
      "text/plain": [
       "[<matplotlib.lines.Line2D at 0x11102ce90>]"
      ]
     },
     "execution_count": 11,
     "metadata": {},
     "output_type": "execute_result"
    },
    {
     "data": {
      "image/png": "[encoded data removed]",
      "text/plain": [
       "<matplotlib.figure.Figure at 0x101433190>"
      ]
     },
     "metadata": {},
     "output_type": "display_data"
    }
   ],
   "source": [
    "t_path_ex, path_ex = explicit_euler_solve(test_cases[6], 2**16, 2/2**16, 1)\n",
    "t_path, path = explicit_euler_solve(test_cases[6], 2**3, 2/2**3, 1)\n",
    "t_path2, path2 = explicit_euler_solve(test_cases[6], 2**4, 2/2**4, 1)\n",
    "\n",
    "plt.plot(t_path_ex, path_ex)\n",
    "plt.plot(t_path, path, '.-')\n",
    "plt.plot(t_path2, path2, '.-')"
   ]
  },
  {
   "cell_type": "code",
   "execution_count": 12,
   "metadata": {
    "collapsed": false
   },
   "outputs": [
    {
     "data": {
      "text/plain": [
       "[<matplotlib.lines.Line2D at 0x11135cb90>]"
      ]
     },
     "execution_count": 12,
     "metadata": {},
     "output_type": "execute_result"
    },
    {
     "data": {
      "image/png": "[encoded data removed]",
      "text/plain": [
       "<matplotlib.figure.Figure at 0x1100edbd0>"
      ]
     },
     "metadata": {},
     "output_type": "display_data"
    }
   ],
   "source": [
    "t_path_ex, path_ex = rk2(test_cases[6], 2**16, 2/2**16, 1)\n",
    "t_path, path = rk2(test_cases[6], 2**3, 2/2**3, 1)\n",
    "t_path2, path2 = rk2(test_cases[6], 2**4, 2/2**4, 1)\n",
    "\n",
    "plt.plot(t_path_ex, path_ex)\n",
    "plt.plot(t_path, path, '.-')\n",
    "plt.plot(t_path2, path2, '.-')"
   ]
  },
  {
   "cell_type": "code",
   "execution_count": 85,
   "metadata": {
    "collapsed": false
   },
   "outputs": [
    {
     "name": "stdout",
     "output_type": "stream",
     "text": [
      "[1.0421488590866153, 0.55796014008833517, 0.28817240094406849, 0.14633207594980835, 0.073673256590531366, 0.036908970072590641, 0.018418083439661004, 0.0091454514026612088, 0.0045023378531423575, 0.0021790816523150625, 0.0010170286899855441, 0.00043589599269822088]\n",
      "[1.4179369044272891, 0.73313063047574456, 0.37288194466941871, 0.18798863474736116, 0.094316172882986216, 0.047169570313287501, 0.023518202448113534, 0.011672943653353585, 0.0057454133244192462, 0.0027804220288594195, 0.0012976197362490893, 0.00055614191475505947]\n"
     ]
    },
    {
     "data": {
      "image/png": "[encoded data removed]",
      "text/plain": [
       "<matplotlib.figure.Figure at 0x108802050>"
      ]
     },
     "metadata": {},
     "output_type": "display_data"
    }
   ],
   "source": [
    "nks ,errs2, t_elapsed = err_est(rk2, test_cases[6], 12, t0, t1, y0)\n",
    "plt.plot(np.log(nks),np.log(errs2))\n",
    "\n",
    "print errs\n",
    "print errs2"
   ]
  },
  {
   "cell_type": "markdown",
   "metadata": {},
   "source": [
    "##Problem 4.\n",
    "\n",
    "- Find the region of absolute stability for the multistep method\n",
    "\n",
    "$$\n",
    "y_{n+2} - y_n = \\tfrac{1}{3}h[f(t_{n+2}, y_{n+2}) + 4f(t_{n+1}, y_{n+1}) + f(t_n, y_n)]\n",
    "$$"
   ]
  },
  {
   "cell_type": "code",
   "execution_count": 34,
   "metadata": {
    "collapsed": false
   },
   "outputs": [
    {
     "data": {
      "image/png": "[encoded data removed]",
      "text/plain": [
       "<matplotlib.figure.Figure at 0x1082f5ad0>"
      ]
     },
     "metadata": {},
     "output_type": "display_data"
    }
   ],
   "source": [
    "h1 = lambda z: (z**2 - z)/(z**2/3 +4*z/3 + 1/3)\n",
    "\n",
    "def aStabRegion_boundary(h_bar_func):\n",
    "    \"\"\"\n",
    "    Compute the boundary of absolute stability h_bar in the \n",
    "    complex plane. Using the fact that \n",
    "    \\partial S = {h_bar(z) : |z| = 1}. We take z = exp(i*theta),\n",
    "    with theta ranging from 0 to 2pi.\n",
    "    \n",
    "    @param h_bar_func: the functional of h_bar of z -> complex, z is the \n",
    "    root to \\Pi(z, h_bar) = 0.\n",
    "    \"\"\"\n",
    "    theta = np.linspace(0, 2*np.pi, 1000)\n",
    "    z = np.exp(theta*1j)\n",
    "    h_bar = h_bar_func(z)\n",
    "    return h_bar.real, h_bar.imag\n",
    "\n",
    "z1 = lambda h: [\n",
    "    (np.sqrt(12*h**2 + 36*h + 9) - 4*h - 3) / (2*h - 6),\n",
    "    (-np.sqrt(12*h**2 + 36*h + 9) - 4*h - 3) / (2*h - 6),\n",
    "]\n",
    "\n",
    "def aStabRegion_mesh(x_lim, y_lim, root_funcs):\n",
    "    \"\"\"\n",
    "    Collect the points on the mesh grids where the method\n",
    "    is absolute stable. By testing whether all roots of \\Pi(z, h_bar) = 0.\n",
    "    have modulus smaller than 1.\n",
    "    \n",
    "    @param x_lim: tuple of 2 doubles, the real range on which the\n",
    "    stability test is conducted.\n",
    "    @param y_lim: tuple of 2 doubles, the imag range on which the\n",
    "    stability test is conducted.\n",
    "    @param root_funcs: list of functionals of h_bar -> complex,\n",
    "    the roots of \\Pi(z, h_bar) = 0.\n",
    "    \"\"\"\n",
    "    x_in, y_in = [], []\n",
    "    x_grids = np.linspace(x_lim[0], x_lim[1], 100)\n",
    "    y_grids = np.linspace(y_lim[0], y_lim[1], 100)\n",
    "    for x in x_grids:\n",
    "        for y in y_grids:\n",
    "            h = x + y*1j\n",
    "            z_all = root_funcs(h)\n",
    "            # conduct the test\n",
    "            test = sum([np.abs(z)>=1 for z in z_all])\n",
    "            if test == 0:\n",
    "                x_in.append(x)\n",
    "                y_in.append(y)\n",
    "    return x_in, y_in\n",
    "            \n",
    "if __name__ == '__main__':\n",
    "    x, y = aStabRegion_boundary(h1)\n",
    "    x_pp, y_pp = aStabRegion_mesh([-4, 3], [-2, 2], z1)\n",
    "    \n",
    "    fig = plt.figure()\n",
    "    ax = fig.add_subplot(111)\n",
    "    ax.plot(x, y, '-', color='r')\n",
    "    ax.plot(x_pp, y_pp, '.')\n",
    "    ax.set_title('The a-stability region plot')\n",
    "    ax.set_xlabel('real($\\\\bar{h}$)')\n",
    "    ax.set_ylabel('imag($\\\\bar{h}$)')\n"
   ]
  },
  {
   "cell_type": "code",
   "execution_count": 38,
   "metadata": {
    "collapsed": false
   },
   "outputs": [
    {
     "data": {
      "text/plain": [
       "'aaa'"
      ]
     },
     "execution_count": 38,
     "metadata": {},
     "output_type": "execute_result"
    }
   ],
   "source": []
  },
  {
   "cell_type": "code",
   "execution_count": 40,
   "metadata": {
    "collapsed": false
   },
   "outputs": [
    {
     "data": {
      "text/plain": [
       "array([0, 1])"
      ]
     },
     "execution_count": 40,
     "metadata": {},
     "output_type": "execute_result"
    }
   ],
   "source": [
    "np.array([1,2]) - np.array([1,1])"
   ]
  },
  {
   "cell_type": "code",
   "execution_count": 50,
   "metadata": {
    "collapsed": false
   },
   "outputs": [
    {
     "data": {
      "text/plain": [
       "[0, 2, 4, 6, 8]"
      ]
     },
     "execution_count": 50,
     "metadata": {},
     "output_type": "execute_result"
    }
   ],
   "source": [
    "a = np.array([1,2,3,4,5,6,7,8,9,10])\n",
    "[x for x in xrange(0,10,2)]"
   ]
  },
  {
   "cell_type": "code",
   "execution_count": 35,
   "metadata": {
    "collapsed": false
   },
   "outputs": [
    {
     "data": {
      "text/plain": [
       "array([ 1. ,  1.1,  1.2,  1.3,  1.4,  1.5,  1.6,  1.7,  1.8,  1.9,  2. ,\n",
       "        2.1,  2.2,  2.3,  2.4,  2.5,  2.6,  2.7,  2.8,  2.9,  3. ])"
      ]
     },
     "execution_count": 35,
     "metadata": {},
     "output_type": "execute_result"
    }
   ],
   "source": [
    "np.linspace(1,3,20+1)\n"
   ]
  },
  {
   "cell_type": "code",
   "execution_count": null,
   "metadata": {
    "collapsed": true
   },
   "outputs": [],
   "source": []
  }
 ],
 "metadata": {
  "kernelspec": {
   "display_name": "Python 2",
   "language": "python",
   "name": "python2"
  },
  "language_info": {
   "codemirror_mode": {
    "name": "ipython",
    "version": 2
   },
   "file_extension": ".py",
   "mimetype": "text/x-python",
   "name": "python",
   "nbconvert_exporter": "python",
   "pygments_lexer": "ipython2",
   "version": "2.7.10"
  }
 },
 "nbformat": 4,
 "nbformat_minor": 0
}
