{
 "cells": [
  {
   "cell_type": "markdown",
   "metadata": {},
   "source": [
    "#Numerical Solutions for DEs HW2\n",
    "\n",
    "YANG, Ze (5131209043)\n",
    "\n",
    "\n",
    "## Problem 4: The non-linear pendulum."
   ]
  },
  {
   "cell_type": "code",
   "execution_count": null,
   "metadata": {
    "collapsed": true
   },
   "outputs": [],
   "source": [
    "%matplotlib inline\n",
    "from __future__ import division\n",
    "import numpy as np\n",
    "import scipy.optimize\n",
    "import matplotlib.pyplot as plt\n",
    "\n",
    "f_s = lambda q: -np.sin(q)\n",
    "g_s = lambda p: p\n",
    "H = lambda p,q: 0.5*p*p + np.cos(q)\n",
    "\n",
    "def explicit_euler_solve(f, g, n, t0, t1, p0, q0):\n",
    "    \"\"\"\n",
    "    explicit euler method, solve separable Hamiltonian system \n",
    "    p'(t)=-D_q H, q'(t)=D_p H, p(t_0)=p_0, q(t_0)=q_0 by\n",
    "    \n",
    "    p_{n+1} <- p_{n} + hf(p_n, q_n).\n",
    "    q_{n+1} <- q_{n} + hg(p_n, q_n).\n",
    "    @param f: a function of p and q, which is the - gradient of H wrt q,\n",
    "        and the derivative of p.\n",
    "    @param g: a function of p and q, which is the gradient of H wrt p,\n",
    "        and the derivative of q.\n",
    "    @param n: the number of steps.\n",
    "    @param t0, p0, q0: the initial value.\n",
    "    @param t1: the other end to which we generate numerical solution\n",
    "    \n",
    "    @return t: the np.array {t_k}_1^n\n",
    "    @return y: the np.array {y_k}_1^n\n",
    "    \"\"\"\n",
    "    h = (t1 - t0) / n\n",
    "    t = np.linspace(t0, t1, n+1)\n",
    "    p, q = np.zeros(n+1), np.zeros(n+1)\n",
    "    p[0], q[0] = p0, q0\n",
    "    for k in range(n):\n",
    "        p[k+1] = p[k] + h*f(q[k])\n",
    "        q[k+1] = q[k] + h*g(p[k])\n",
    "    return t, p, q\n",
    "\n",
    "\n",
    "def symplectic_euler_solve(f, g, n, t0, t1, p0, q0):\n",
    "    \"\"\"\n",
    "    semi-implicit euler method, solve separable Hamiltonian system \n",
    "    p'(t)=-D_q H, q'(t)=D_p H, p(t_0)=p_0, q(t_0)=q_0, \n",
    "    in which H(p, q) = T(p) + V(q), by\n",
    "    \n",
    "    p_{n+1} <- p_{n} + hf(p_{q_n).\n",
    "    q_{n+1} <- q_{n} + hg(p_{n+1}).\n",
    "    @param f: a function of q, which is the - gradient of H wrt q,\n",
    "        and the derivative of p.\n",
    "    @param g: a function of p, which is the gradient of H wrt p,\n",
    "        and the derivative of q.\n",
    "    @param n: the number of steps.\n",
    "    @param t0, p0, q0: the initial value.\n",
    "    @param t1: the other end to which we generate numerical solution\n",
    "    \n",
    "    @return t: the np.array {t_k}_1^n\n",
    "    @return y: the np.array {y_k}_1^n\n",
    "    \"\"\"\n",
    "    h = (t1 - t0) / n\n",
    "    t = np.linspace(t0, t1, n+1)\n",
    "    p, q = np.zeros(n+1), np.zeros(n+1)\n",
    "    p[0], q[0] = p0, q0\n",
    "    for k in range(n):\n",
    "        p[k+1] = p[k] + h*f(q[k])\n",
    "        q[k+1] = q[k] + h*g(p[k+1])\n",
    "    return t, p, q\n",
    "\n",
    "\n",
    "def hamilton_error(H_func, result, H_exact):\n",
    "    \"\"\"\n",
    "    calcuate the error in Hamilton function.\n",
    "    @param H_func: the hamilton function H = H(p, q)\n",
    "    @param result: the result of numerical calculation y = (p, q)\n",
    "    @param H_exact: the exact value of H, which is a constant.\n",
    "    \"\"\"\n",
    "    n = len(result)\n",
    "    err = []\n",
    "    for k in range(n):\n",
    "        pk, qk = result[k][0], result[k][1]\n",
    "        err.append(H_func(pk, qk) - H_exact)\n",
    "    return err"
   ]
  },
  {
   "cell_type": "code",
   "execution_count": null,
   "metadata": {
    "collapsed": true
   },
   "outputs": [],
   "source": []
  }
 ],
 "metadata": {
  "kernelspec": {
   "display_name": "Python 2",
   "language": "python",
   "name": "python2"
  },
  "language_info": {
   "codemirror_mode": {
    "name": "ipython",
    "version": 2
   },
   "file_extension": ".py",
   "mimetype": "text/x-python",
   "name": "python",
   "nbconvert_exporter": "python",
   "pygments_lexer": "ipython2",
   "version": "2.7.10"
  }
 },
 "nbformat": 4,
 "nbformat_minor": 0
}
