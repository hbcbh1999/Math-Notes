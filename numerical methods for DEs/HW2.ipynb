{
 "cells": [
  {
   "cell_type": "markdown",
   "metadata": {},
   "source": [
    "#Numerical Solutions for DEs HW1\n",
    "\n",
    "YANG, Ze (5131209043)\n",
    "\n",
    "**Note to TA**: Hi, this is the senior student from Antai College who did not register for this course. I would like to do all the assignments for practice, but feel free to just skip my homework if you don't have time.\n",
    "\n",
    "Thank you again for allowing me to access the assignments and other class material! : )\n",
    "\n",
    "Ze\n",
    "\n",
    "\n",
    "\n",
    "##Problem 1.\n",
    "\n",
    "- Implement RK2\n",
    "\n",
    "\\begin{cases}\n",
    "y_{n+1}=y_n + hk_2 \\\\\n",
    "k_1 = f(t_n, y_n) \\\\\n",
    "k_2 = f(t_n + \\tfrac{1}{2}h, y_n + \\tfrac{1}{2}hk_1) \\\\\n",
    "\\end{cases}\n",
    "\n",
    "- Henn Method\n",
    "\n",
    "\\begin{cases}\n",
    "y_{n+1}= y_n + h(\\tfrac{1}{4}k_1 + \\tfrac{3}{4}k_3)\\\\\n",
    "k_1 = f(t_n, y_n) \\\\\n",
    "k_2 = f(t_n + \\tfrac{1}{3}h, y_n + \\tfrac{1}{3}hk_1) \\\\\n",
    "k_3 = f(t_n + \\tfrac{2}{3}h, y_n + \\tfrac{2}{3}hk_1) \\\\\n",
    "\\end{cases}\n",
    "\n",
    "- The Classical RK4 Method\n",
    "\n",
    "\\begin{cases}\n",
    "y_{n+1} = y_n + h(\\tfrac{1}{6}k_1 + \\tfrac{1}{3}k_2 + \\tfrac{1}{3}k_3 + \\tfrac{1}{6}k_4) \\\\\n",
    "k_1 = f(t_n, y_n) \\\\\n",
    "k_2 = f(t_n + \\tfrac{1}{2}h, y_n + \\tfrac{1}{2}hk_1) \\\\\n",
    "k_3 = f(t_n + \\tfrac{1}{2}h, y_n + \\tfrac{1}{2}hk_2) \\\\\n",
    "k_4 = f(t_n + h, y_n + hk_3) \\\\\n",
    "\\end{cases}\n",
    "\n",
    "- Choose appropriate RK method to initialize Adams-Bashforth method of order 3:\n",
    "\n",
    "$$\n",
    "y_{n+3} = y_{n+2} + h(\\tfrac{23}{12}f(t_{n+2}, y_{n+2}) - \\tfrac{4}{3}f(t_{n+1}, y_{n+1}) + \\tfrac{5}{12}f(t_n, y_n))\n",
    "$$\n",
    "\n",
    "And justify the rate of convergence."
   ]
  },
  {
   "cell_type": "code",
   "execution_count": 1,
   "metadata": {
    "collapsed": true
   },
   "outputs": [],
   "source": [
    "%matplotlib inline\n",
    "from __future__ import division\n",
    "import time\n",
    "import numpy as np\n",
    "import scipy.optimize\n",
    "import matplotlib.pyplot as plt"
   ]
  },
  {
   "cell_type": "code",
   "execution_count": 2,
   "metadata": {
    "collapsed": false
   },
   "outputs": [],
   "source": [
    "# test cases\n",
    "test_cases = {\n",
    "    1: lambda t,y: np.pi * np.cos(np.pi * t),\n",
    "    2: lambda t,y: t + y,\n",
    "    3: lambda t,y: exp(t),\n",
    "    4: lambda t,y: -20*y + 20* t + 1,\n",
    "    5: lambda t,y: (y**2) * (t - t**3),\n",
    "    6: lambda t,y: t**2 - y\n",
    "}\n",
    "\n",
    "# initial conditions\n",
    "t0, t1, y0 = 0.0, 3.0, 1.0\n",
    "\n",
    "\n",
    "# estimate error and performance\n",
    "def err_est(method, f, n_sample, t0, t1, y0):\n",
    "    \"\"\"\n",
    "    estimate the error of an numerical solution relative\n",
    "    to an exact solution, which is obtained by using a very small h.\n",
    "    \n",
    "    @param method: function, the numerical method being used.\n",
    "    @param f: a function of t and y, which is the derivative of y.\n",
    "    @param n_sample: # of different choices of h that are tested.\n",
    "    \"\"\"\n",
    "    nks, errs, t_elapsed = [], [], []\n",
    "    # calculate \"exact\" solution using a very small h\n",
    "    n_large = 2**16\n",
    "    h_exact = (t1 - t0) / n_large\n",
    "    t_path_ex, path_ex = method(f, n_large, h_exact, y0)\n",
    "    \n",
    "    h_sample = [((t1 - t0) / (2**(n+3))) for n in range(n_sample)]\n",
    "    for k in range(n_sample):\n",
    "        n_k = 2**(k+3)\n",
    "        s_k = int(n_large/n_k)\n",
    "        start_time = time.time()\n",
    "        # do the numerical procudure with given choice of h,n\n",
    "        t_path, path = method(f, n_k, h_sample[k], y0)\n",
    "        t_elapsed.append(time.time() - start_time)\n",
    "        # calc errors \n",
    "        path_matched = [path_ex[k] for k in xrange(0, n_large, s_k)] \n",
    "        err = max(np.abs(path - path_matched))\n",
    "        errs.append(err)\n",
    "        nks.append(n_k)\n",
    "    return nks, errs, t_elapsed\n",
    "\n",
    "# the benchmark, the method we implemented in last HW.\n",
    "def explicit_euler_solve(f, n, h, y0):\n",
    "    \"\"\"\n",
    "    explicit euler method, solve IVP y'(t)=f(t,y(t)), y(0)=y_0 by\n",
    "    y_{n+1} <- y_{n} + hf(t_n, y_{n}).\n",
    "    @param f: a function of t and y, which is the derivative of y.\n",
    "    @param n: the number of steps.\n",
    "    @param h: the step size.\n",
    "    @param y0: the initial value.\n",
    "    \n",
    "    @return t_path: the np.array {t_k}_1^n\n",
    "    @return path: the np.array {y_k}_1^n\n",
    "    \"\"\"\n",
    "    y = y0\n",
    "    t_path, path = [], []\n",
    "    for k in range(1,n+1):\n",
    "        y += h * f((k-1)*h, y)\n",
    "        path.append(y)\n",
    "        t_path.append(k*h)       \n",
    "    return np.array(t_path), np.array(path)\n",
    "\n",
    "def rk2(f, n, h, y0):\n",
    "    \"\"\"\n",
    "    2-nd order RK method, solve IVP y'(t)=f(t,y(t)), y(0)=y_0 by\n",
    "    k1 <- f(t_n, y_n)\n",
    "    k2 <- f(t_n + h/2, y_n + hk_1/2)\n",
    "    y_{n+1} <- y_n + hk2.\n",
    "    \n",
    "    @param f: a function of t and y, which is the derivative of y.\n",
    "    @param n: the number of steps.\n",
    "    @param h: the step size.\n",
    "    @param y0: the initial value.\n",
    "    \n",
    "    @return t_path: the array {t_k}_1^n\n",
    "    @return path: the array {y_k}_1^n\n",
    "    \"\"\"\n",
    "    y = y0\n",
    "    t_path, path = [], []\n",
    "    for k in range(1,n+1):\n",
    "        tn = (k-1)*h\n",
    "        k1 = f(tn, y)\n",
    "        k2 = f(tn + h/2, y + h*k1/2)\n",
    "        y += h * k2\n",
    "        path.append(y)\n",
    "        t_path.append(k*h)\n",
    "    return np.array(t_path), np.array(path)\n",
    "\n",
    "\n",
    "def henn_rk3(f, n, h, y0):\n",
    "    y = y0\n",
    "    t_path, path = [], []\n",
    "    for k in range(1,n+1):\n",
    "        tn = (k-1)*h\n",
    "        k1 = f(tn, y)\n",
    "        k2 = f(tn + h/3, y + h*k1/3)\n",
    "        k3 = f(tn + 2*h/3, y + 2*h*k2/3)\n",
    "        y += h/4 * k1 + 3*h/4 * k3\n",
    "        path.append(y)\n",
    "        t_path.append(k*h)\n",
    "    return np.array(t_path), np.array(path)\n",
    "\n",
    "def rk4():\n",
    "    pass"
   ]
  },
  {
   "cell_type": "code",
   "execution_count": 17,
   "metadata": {
    "collapsed": false
   },
   "outputs": [
    {
     "data": {
      "text/plain": [
       "[<matplotlib.lines.Line2D at 0x1085f6650>]"
      ]
     },
     "execution_count": 17,
     "metadata": {},
     "output_type": "execute_result"
    },
    {
     "data": {
      "image/png": "[encoded data removed]",
      "text/plain": [
       "<matplotlib.figure.Figure at 0x108f22ad0>"
      ]
     },
     "metadata": {},
     "output_type": "display_data"
    }
   ],
   "source": [
    "nks ,errs, t_elapsed = err_est(rk2, test_cases[6], 12, t0, t1, y0)\n",
    "#plt.plot( ,errs)\n",
    "plt.plot(range(10) ,-np.array(range(10)))\n",
    "plt.plot(np.log(nks) ,np.log(errs))"
   ]
  },
  {
   "cell_type": "code",
   "execution_count": 9,
   "metadata": {
    "collapsed": false
   },
   "outputs": [
    {
     "data": {
      "text/plain": [
       "[<matplotlib.lines.Line2D at 0x108140490>]"
      ]
     },
     "execution_count": 9,
     "metadata": {},
     "output_type": "execute_result"
    },
    {
     "data": {
      "image/png": "[encoded data removed]",
      "text/plain": [
       "<matplotlib.figure.Figure at 0x1023e3050>"
      ]
     },
     "metadata": {},
     "output_type": "display_data"
    }
   ],
   "source": [
    "plt.plot(np.log(nks),np.log(t_elapsed))"
   ]
  },
  {
   "cell_type": "code",
   "execution_count": 85,
   "metadata": {
    "collapsed": false
   },
   "outputs": [
    {
     "name": "stdout",
     "output_type": "stream",
     "text": [
      "[1.0421488590866153, 0.55796014008833517, 0.28817240094406849, 0.14633207594980835, 0.073673256590531366, 0.036908970072590641, 0.018418083439661004, 0.0091454514026612088, 0.0045023378531423575, 0.0021790816523150625, 0.0010170286899855441, 0.00043589599269822088]\n",
      "[1.4179369044272891, 0.73313063047574456, 0.37288194466941871, 0.18798863474736116, 0.094316172882986216, 0.047169570313287501, 0.023518202448113534, 0.011672943653353585, 0.0057454133244192462, 0.0027804220288594195, 0.0012976197362490893, 0.00055614191475505947]\n"
     ]
    },
    {
     "data": {
      "image/png": "[encoded data removed]",
      "text/plain": [
       "<matplotlib.figure.Figure at 0x108802050>"
      ]
     },
     "metadata": {},
     "output_type": "display_data"
    }
   ],
   "source": [
    "nks ,errs2, t_elapsed = err_est(rk2, test_cases[6], 12, t0, t1, y0)\n",
    "plt.plot(np.log(nks),np.log(errs2))\n",
    "\n",
    "print errs\n",
    "print errs2"
   ]
  },
  {
   "cell_type": "markdown",
   "metadata": {},
   "source": [
    "##Problem 4.\n",
    "\n",
    "- Find the region of absolute stability for the multistep method\n",
    "\n",
    "$$\n",
    "y_{n+2} - y_n = \\tfrac{1}{3}h[f(t_{n+2}, y_{n+2}) + 4f(t_{n+1}, y_{n+1}) + f(t_n, y_n)]\n",
    "$$"
   ]
  },
  {
   "cell_type": "code",
   "execution_count": 34,
   "metadata": {
    "collapsed": false
   },
   "outputs": [
    {
     "data": {
      "image/png": "[encoded data removed]",
      "text/plain": [
       "<matplotlib.figure.Figure at 0x1082f5ad0>"
      ]
     },
     "metadata": {},
     "output_type": "display_data"
    }
   ],
   "source": [
    "h1 = lambda z: (z**2 - z)/(z**2/3 +4*z/3 + 1/3)\n",
    "\n",
    "def aStabRegion_boundary(h_bar_func):\n",
    "    \"\"\"\n",
    "    Compute the boundary of absolute stability h_bar in the \n",
    "    complex plane. Using the fact that \n",
    "    \\partial S = {h_bar(z) : |z| = 1}. We take z = exp(i*theta),\n",
    "    with theta ranging from 0 to 2pi.\n",
    "    \n",
    "    @param h_bar_func: the functional of h_bar of z -> complex, z is the \n",
    "    root to \\Pi(z, h_bar) = 0.\n",
    "    \"\"\"\n",
    "    theta = np.linspace(0, 2*np.pi, 1000)\n",
    "    z = np.exp(theta*1j)\n",
    "    h_bar = h_bar_func(z)\n",
    "    return h_bar.real, h_bar.imag\n",
    "\n",
    "z1 = lambda h: [\n",
    "    (np.sqrt(12*h**2 + 36*h + 9) - 4*h - 3) / (2*h - 6),\n",
    "    (-np.sqrt(12*h**2 + 36*h + 9) - 4*h - 3) / (2*h - 6),\n",
    "]\n",
    "\n",
    "def aStabRegion_mesh(x_lim, y_lim, root_funcs):\n",
    "    \"\"\"\n",
    "    Collect the points on the mesh grids where the method\n",
    "    is absolute stable. By testing whether all roots of \\Pi(z, h_bar) = 0.\n",
    "    have modulus smaller than 1.\n",
    "    \n",
    "    @param x_lim: tuple of 2 doubles, the real range on which the\n",
    "    stability test is conducted.\n",
    "    @param y_lim: tuple of 2 doubles, the imag range on which the\n",
    "    stability test is conducted.\n",
    "    @param root_funcs: list of functionals of h_bar -> complex,\n",
    "    the roots of \\Pi(z, h_bar) = 0.\n",
    "    \"\"\"\n",
    "    x_in, y_in = [], []\n",
    "    x_grids = np.linspace(x_lim[0], x_lim[1], 100)\n",
    "    y_grids = np.linspace(y_lim[0], y_lim[1], 100)\n",
    "    for x in x_grids:\n",
    "        for y in y_grids:\n",
    "            h = x + y*1j\n",
    "            z_all = root_funcs(h)\n",
    "            # conduct the test\n",
    "            test = sum([np.abs(z)>=1 for z in z_all])\n",
    "            if test == 0:\n",
    "                x_in.append(x)\n",
    "                y_in.append(y)\n",
    "    return x_in, y_in\n",
    "            \n",
    "if __name__ == '__main__':\n",
    "    x, y = aStabRegion_boundary(h1)\n",
    "    x_pp, y_pp = aStabRegion_mesh([-4, 3], [-2, 2], z1)\n",
    "    \n",
    "    fig = plt.figure()\n",
    "    ax = fig.add_subplot(111)\n",
    "    ax.plot(x, y, '-', color='r')\n",
    "    ax.plot(x_pp, y_pp, '.')\n",
    "    ax.set_title('The a-stability region plot')\n",
    "    ax.set_xlabel('real($\\\\bar{h}$)')\n",
    "    ax.set_ylabel('imag($\\\\bar{h}$)')\n"
   ]
  },
  {
   "cell_type": "code",
   "execution_count": 38,
   "metadata": {
    "collapsed": false
   },
   "outputs": [
    {
     "data": {
      "text/plain": [
       "'aaa'"
      ]
     },
     "execution_count": 38,
     "metadata": {},
     "output_type": "execute_result"
    }
   ],
   "source": []
  },
  {
   "cell_type": "code",
   "execution_count": 40,
   "metadata": {
    "collapsed": false
   },
   "outputs": [
    {
     "data": {
      "text/plain": [
       "array([0, 1])"
      ]
     },
     "execution_count": 40,
     "metadata": {},
     "output_type": "execute_result"
    }
   ],
   "source": [
    "np.array([1,2]) - np.array([1,1])"
   ]
  },
  {
   "cell_type": "code",
   "execution_count": 50,
   "metadata": {
    "collapsed": false
   },
   "outputs": [
    {
     "data": {
      "text/plain": [
       "[0, 2, 4, 6, 8]"
      ]
     },
     "execution_count": 50,
     "metadata": {},
     "output_type": "execute_result"
    }
   ],
   "source": [
    "a = np.array([1,2,3,4,5,6,7,8,9,10])\n",
    "[x for x in xrange(0,10,2)]"
   ]
  },
  {
   "cell_type": "code",
   "execution_count": 74,
   "metadata": {
    "collapsed": false
   },
   "outputs": [
    {
     "data": {
      "text/plain": [
       "65536"
      ]
     },
     "execution_count": 74,
     "metadata": {},
     "output_type": "execute_result"
    }
   ],
   "source": [
    "2**16"
   ]
  },
  {
   "cell_type": "code",
   "execution_count": null,
   "metadata": {
    "collapsed": true
   },
   "outputs": [],
   "source": []
  }
 ],
 "metadata": {
  "kernelspec": {
   "display_name": "Python 2",
   "language": "python",
   "name": "python2"
  },
  "language_info": {
   "codemirror_mode": {
    "name": "ipython",
    "version": 2
   },
   "file_extension": ".py",
   "mimetype": "text/x-python",
   "name": "python",
   "nbconvert_exporter": "python",
   "pygments_lexer": "ipython2",
   "version": "2.7.10"
  }
 },
 "nbformat": 4,
 "nbformat_minor": 0
}
